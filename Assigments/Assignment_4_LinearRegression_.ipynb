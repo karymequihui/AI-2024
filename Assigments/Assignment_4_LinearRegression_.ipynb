{
  "nbformat": 4,
  "nbformat_minor": 0,
  "metadata": {
    "colab": {
      "provenance": []
    },
    "kernelspec": {
      "name": "python3",
      "display_name": "Python 3"
    },
    "language_info": {
      "name": "python"
    }
  },
  "cells": [
    {
      "cell_type": "markdown",
      "source": [
        "**Assigment 3.- Linear regression model training.**\n",
        "\n",
        "---"
      ],
      "metadata": {
        "id": "4Dv6WA6bhVfy"
      }
    },
    {
      "cell_type": "markdown",
      "source": [
        "**Objective**.-\n",
        "To train one of the simplest supervised learning models: Linear Regression.\n",
        "\n",
        "**Instructions**.-\n",
        "\n",
        ">The student will generate a linear regression model in Google Colab\n",
        "using the Python programming language. This model will predict the grade of a group of students taking into account the number of hours\n",
        "dedicated to studying.\n",
        "\n",
        ">The dataset will be generated using the \"random\" function from Numpy as\n",
        "follows:\n",
        "\n",
        "np.random.seed(0)\n",
        "\n",
        "study_hours = np.random.rand(100, 1) * 10\n",
        "\n",
        "grades = 2 * study_hours + np.random.randn(100, 1) * 2\n",
        "\n",
        ">During the data preprocessing, the \"train_test_split\" function from\n",
        "the scikit-learn library will be used to generate the training data sets (train_data, train_labels) and test data sets (test_data, test_labels).\n",
        "An 80% training and 20% testing ratio will be used.\n",
        "\n",
        ">The linear regression model will be trained with the training data using the \"fit\" function from the scikit-learn library.\n",
        "Predictions will be made with the test data set (test_data) and the\n",
        "linear regression model will be graphed with these predictions.\n",
        "\n",
        ">The \"mean_squared_error\" function from scikit-learn will be used to\n",
        "calculate the mean squared error, which will be the metric used to\n",
        "evaluate the performance of the model during testing. This result should\n",
        " be displayed."
      ],
      "metadata": {
        "id": "C-7wSFOMa_Ea"
      }
    },
    {
      "cell_type": "markdown",
      "source": [
        "**Step 1: Load libraries**"
      ],
      "metadata": {
        "id": "f2ssHoHHUpey"
      }
    },
    {
      "cell_type": "code",
      "source": [
        "import numpy as np\n",
        "from sklearn.model_selection import train_test_split\n",
        "from sklearn.linear_model import LinearRegression\n",
        "from sklearn.metrics import mean_squared_error\n",
        "import matplotlib.pyplot as plt"
      ],
      "metadata": {
        "id": "HzE2og3VUj3D"
      },
      "execution_count": null,
      "outputs": []
    },
    {
      "cell_type": "markdown",
      "source": [
        "**Step 2: Load data**"
      ],
      "metadata": {
        "id": "YMDteXB1U4kb"
      }
    },
    {
      "cell_type": "code",
      "source": [
        "# Generar datos aleatorios\n",
        "np.random.seed(8)\n",
        "study_hours = np.random.rand(100, 1) * 10\n",
        "grades = 2 * study_hours + np.random.randn(100, 1) * 2"
      ],
      "metadata": {
        "id": "NkWGyb0xWFrf"
      },
      "execution_count": null,
      "outputs": []
    },
    {
      "cell_type": "markdown",
      "source": [
        "**Step 3: Data processing**"
      ],
      "metadata": {
        "id": "BcJ8CbxUXWxD"
      }
    },
    {
      "cell_type": "code",
      "source": [
        "# Dividir los datos en conjuntos de entrenamiento y prueba\n",
        "X_trn, X_tst, y_trn, y_tst = train_test_split(study_hours, grades, test_size=0.2, random_state=100)"
      ],
      "metadata": {
        "id": "R1cFMkie167F"
      },
      "execution_count": null,
      "outputs": []
    },
    {
      "cell_type": "markdown",
      "source": [
        "**Step 4: Model selection, setup and training**"
      ],
      "metadata": {
        "id": "QN-JqlTFYpfb"
      }
    },
    {
      "cell_type": "code",
      "source": [
        "# Entrenar el modelo de regresión lineal\n",
        "model = LinearRegression()\n",
        "model.fit(X_trn, y_trn)\n",
        "\n",
        "# Hacer predicciones\n",
        "y_prd = model.predict(X_tst)"
      ],
      "metadata": {
        "id": "CttX6qdpXaDv"
      },
      "execution_count": null,
      "outputs": []
    },
    {
      "cell_type": "markdown",
      "source": [
        "**Step 5: Test the model**"
      ],
      "metadata": {
        "id": "rpdpGRu6ZDlS"
      }
    },
    {
      "cell_type": "code",
      "source": [
        "# Calcular el error cuadrático medio\n",
        "mse = mean_squared_error(y_tst, y_prd)\n",
        "print(f\"Mean Squared Error: {mse}\")"
      ],
      "metadata": {
        "colab": {
          "base_uri": "https://localhost:8080/"
        },
        "id": "Iaqki_SeZkRA",
        "outputId": "dfa18a0e-4cf7-49c6-a80e-4275abf8f9dd"
      },
      "execution_count": null,
      "outputs": [
        {
          "output_type": "stream",
          "name": "stdout",
          "text": [
            "Mean Squared Error: 3.6036810435707687\n"
          ]
        }
      ]
    },
    {
      "cell_type": "code",
      "source": [
        "# Graficar el modelo\n",
        "plt.scatter(X_tst, y_tst, color='red')\n",
        "plt.plot(X_tst, y_prd, color='blue', linewidth=3)\n",
        "plt.xlabel('Hours Studied')\n",
        "plt.ylabel('Grades')\n",
        "plt.title('Linear Regression Model')\n",
        "plt.show()"
      ],
      "metadata": {
        "colab": {
          "base_uri": "https://localhost:8080/",
          "height": 472
        },
        "id": "sB8gQin8Vrxh",
        "outputId": "b5e3666f-0f2d-4006-9f01-302e99bcede4"
      },
      "execution_count": null,
      "outputs": [
        {
          "output_type": "display_data",
          "data": {
            "text/plain": [
              "<Figure size 640x480 with 1 Axes>"
            ],
            "image/png": "[encoded data removed]"
          },
          "metadata": {}
        }
      ]
    },
    {
      "cell_type": "code",
      "source": [
        "# Graficar el modelo\n",
        "plt.scatter(X_tst, y_tst, color='red')\n",
        "plt.xlabel('Hours Studied')\n",
        "plt.ylabel('Grades')\n",
        "plt.title('Linear Regression Model')\n",
        "plt.show()"
      ],
      "metadata": {
        "colab": {
          "base_uri": "https://localhost:8080/",
          "height": 472
        },
        "id": "7gXoQtPU8vm7",
        "outputId": "1cde8aa1-37ed-402e-fe9c-d1c38cd006f0"
      },
      "execution_count": null,
      "outputs": [
        {
          "output_type": "display_data",
          "data": {
            "text/plain": [
              "<Figure size 640x480 with 1 Axes>"
            ],
            "image/png": "[encoded data removed]"
          },
          "metadata": {}
        }
      ]
    },
    {
      "cell_type": "markdown",
      "source": [
        "---\n",
        "\n",
        "\n",
        "Universidad Autonoma de Nuevo León - Facultad de Ingenieria Mecanica y Electrica\n",
        "> Inteligencia Artifial 002\n",
        "\n",
        "> Ju(N4), Ene - Jun 2024\n",
        "\n",
        "Professor:\n",
        "\n",
        "> Daniel Isaías López Páez\n",
        "\n",
        "Students:\n",
        "\n",
        "> 1948108 Jan Pablo Camarillo Ortiz\n",
        "\n",
        "> 2077504 Andrés González Loredo\n",
        "\n",
        ">1945370 Karyme Montserrat Quihui Barrios\n",
        "\n",
        ">1965461 Arturo Arizpe Morales"
      ],
      "metadata": {
        "id": "2RbedNLshR6y"
      }
    }
  ]
}